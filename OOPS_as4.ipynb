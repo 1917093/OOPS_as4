{
  "nbformat": 4,
  "nbformat_minor": 0,
  "metadata": {
    "colab": {
      "provenance": []
    },
    "kernelspec": {
      "name": "python3",
      "display_name": "Python 3"
    },
    "language_info": {
      "name": "python"
    }
  },
  "cells": [
    {
      "cell_type": "markdown",
      "source": [
        "**1.What is Object-Oriented Programming (OOP)?**\n",
        "\n",
        "\n",
        "Object-Oriented Programming (OOP) is a programming paradigm that is based on the concept of \"objects\", which are instances of classes. These objects can contain:\n",
        "\n",
        "Data (attributes or properties)\n",
        "\n",
        "Methods (functions that operate on the data)\n",
        "\n",
        "Key Concepts of OOP:\n",
        "\n",
        "Class\n",
        "\n",
        "A blueprint for creating objects. It defines the structure and behavior.\n",
        "\n",
        "Object\n",
        "\n",
        "An instance of a class. It represents a real-world entity.\n",
        "\n",
        "Encapsulation\n",
        "\n",
        "Bundling data and methods into a single unit (class) and restricting direct access to some components.\n",
        "\n",
        "Abstraction\n",
        "\n",
        "Hiding complex implementation details and showing only the essential features.\n",
        "\n",
        "Inheritance\n",
        "\n",
        "One class (child) can inherit the properties and methods of another class (parent).\n",
        "\n",
        "Polymorphism\n",
        "\n",
        "The ability to use a common interface for multiple forms (method overloading/overriding)."
      ],
      "metadata": {
        "id": "QizBVwLwGoYv"
      }
    },
    {
      "cell_type": "markdown",
      "source": [
        "**2.What is a class in OOP?**\n",
        "\n",
        "A class defines the attributes (data) and methods (functions) that the objects created from the class will have.\n",
        "\n",
        "A class is like an architect’s blueprint for a house. It defines how the house should look (structure), but the actual house is built (object) using that blueprint."
      ],
      "metadata": {
        "id": "XhOgoGF-Hr5P"
      }
    },
    {
      "cell_type": "code",
      "source": [
        "class Person:\n",
        "    def __init__(self, name, age):  # constructor method\n",
        "        self.name = name            # attribute\n",
        "        self.age = age\n",
        "\n",
        "    def greet(self):                # method\n",
        "        print(f\"Hello, my name is {self.name} and I am {self.age} years old.\")\n",
        "\n",
        "p1 = Person(\"Aditi\", 25)  # object\n",
        "p1.greet()"
      ],
      "metadata": {
        "colab": {
          "base_uri": "https://localhost:8080/"
        },
        "id": "Fj4lElBDIllQ",
        "outputId": "14faa5df-9ee3-4098-a0af-5d4cb27feb79"
      },
      "execution_count": null,
      "outputs": [
        {
          "output_type": "stream",
          "name": "stdout",
          "text": [
            "Hello, my name is Aditi and I am 25 years old.\n"
          ]
        }
      ]
    },
    {
      "cell_type": "markdown",
      "source": [
        "**3. What is an object in OOP?**\n",
        "\n",
        "\n",
        "An object is an instance of a class.\n",
        "\n",
        "While a class is just a blueprint or template, an object is the real thing built using that blueprint.\n",
        "\n"
      ],
      "metadata": {
        "id": "irDG0gjSJj6a"
      }
    },
    {
      "cell_type": "code",
      "source": [
        "class Person:\n",
        "    def __init__(self, name):\n",
        "        self.name = name\n",
        "\n",
        "    def greet(self):\n",
        "        print(\"Hello, my name is\", self.name)\n",
        "\n",
        "# Create an object\n",
        "p1 = Person(\"Aditi\")\n",
        "\n",
        "# Call method\n",
        "p1.greet()\n"
      ],
      "metadata": {
        "colab": {
          "base_uri": "https://localhost:8080/"
        },
        "id": "ccmC4oMsKQvA",
        "outputId": "71ac586d-bdbc-41e0-cedf-be1fb4691e8d"
      },
      "execution_count": null,
      "outputs": [
        {
          "output_type": "stream",
          "name": "stdout",
          "text": [
            "Hello, my name is Aditi\n"
          ]
        }
      ]
    },
    {
      "cell_type": "markdown",
      "source": [
        "**4. What is the difference between abstraction and encapsulation?**\n",
        "\n",
        "\n",
        "\n",
        "Abstraction and encapsulation are two core principles of Object-Oriented Programming, but they serve different purposes.\n",
        "\n",
        "\n",
        " Abstraction is the process of hiding complex implementation details and showing only the essential features to the user—focusing on what an object does. It is achieved using abstract classes or interfaces (abstract base classes in Python). A common example is using a mobile phone: you press a button to make a call without knowing the internal workings.\n",
        "\n",
        "\n",
        "\n",
        " In contrast, encapsulation is about wrapping data and methods into a single unit (a class) and restricting direct access to the data—focusing on how the data is hidden. It is implemented using access modifiers like public, protected, and private. A real-life example of encapsulation is how your bank details are hidden and only accessible to you through secure methods. In short, abstraction simplifies complexity, while encapsulation protects data."
      ],
      "metadata": {
        "id": "LeF0C9JXKSwt"
      }
    },
    {
      "cell_type": "markdown",
      "source": [
        " **5. What are dunder methods in Python?**\n",
        "\n",
        "\n",
        "Dunder methods (short for “double underscore” methods) are special built-in methods in Python.\n",
        "They start and end with double underscores like __init__, __str__, __len__, etc.\n",
        "\n",
        "Dunder = \"Double UNDERscore\"\n",
        "\n",
        "These methods let you customize the behavior of your objects and interact with Python’s built-in functions and operators.\n"
      ],
      "metadata": {
        "id": "1BmBmNfUMQG4"
      }
    },
    {
      "cell_type": "markdown",
      "source": [
        "6. Explain the concept of inheritance in OOP?\n",
        "\n",
        "\n",
        "Inheritance in Object-Oriented Programming (OOP) is a mechanism that allows one class (known as the child or subclass) to inherit attributes and methods from another class (known as the parent or superclass). It enables code reusability and promotes a hierarchical classification, allowing developers to build upon existing code rather than rewriting it. Through inheritance, a subclass can use, extend, or override the functionality defined in the superclass, making the design more modular and easier to maintain.\n",
        "\n",
        "There are several types of inheritance in OOP: Single Inheritance, where a child class inherits from one parent class; Multiple Inheritance, where a child class inherits from more than one parent class; Multilevel Inheritance, where a class inherits from a child class which itself inherits from another class; Hierarchical Inheritance, where multiple child classes inherit from a single parent class; and Hybrid Inheritance, which is a combination of two or more types of inheritance."
      ],
      "metadata": {
        "id": "H3G82mkZNYXV"
      }
    },
    {
      "cell_type": "markdown",
      "source": [
        "**7. What is polymorphism in OOP?**\n",
        "\n",
        "Polymorphism means \"many forms\". It refers to the ability of an entity (like a function or object) to perform different actions based on the context.\n",
        "\n",
        "Technically, in Python, polymorphism allows same method, function or operator to behave differently depending on object it is working with. This makes code more flexible and reusable.\n",
        "\n",
        "\n"
      ],
      "metadata": {
        "id": "0714GjpH8iRy"
      }
    },
    {
      "cell_type": "code",
      "source": [
        "class Dog:\n",
        "    def speak(self):\n",
        "        return \"Dog says: Bark\"\n",
        "\n",
        "class Cat:\n",
        "    def speak(self):\n",
        "        return \"Cat says: Meow\"\n",
        "\n",
        "# List of different animal objects\n",
        "animals = [Dog(), Cat()]\n",
        "\n",
        "# Looping through the list and calling the same method\n",
        "for animal in animals:\n",
        "    print(animal.speak())\n"
      ],
      "metadata": {
        "colab": {
          "base_uri": "https://localhost:8080/"
        },
        "id": "zgD2XBiS-mtb",
        "outputId": "09251388-5a1a-4b03-fd2e-12ea3396e394"
      },
      "execution_count": null,
      "outputs": [
        {
          "output_type": "stream",
          "name": "stdout",
          "text": [
            "Dog says: Bark\n",
            "Cat says: Meow\n"
          ]
        }
      ]
    },
    {
      "cell_type": "markdown",
      "source": [
        "**8. How is encapsulation achieved in Python?**\n",
        "\n",
        "\n",
        "\n",
        "Encapsulation in Python is the concept of bundling data (attributes) and methods (functions) that operate on that data within a single unit (class), while restricting direct access to some parts of the object. It is achieved using access modifiers: public members (no underscore) are accessible from anywhere, protected members (prefixed with _) are intended for internal use and should not be accessed directly, and private members (prefixed with __) are not directly accessible from outside the class due to name mangling. To access or modify private data, Python uses getter and setter methods, which provide controlled access. This helps maintain data security, integrity, and prevents unintended modifications."
      ],
      "metadata": {
        "id": "RtKs5D8A-o2Y"
      }
    },
    {
      "cell_type": "markdown",
      "source": [
        "**9. What is a constructor in Python?**\n",
        "\n",
        "In Python, a constructor is a special method used to initialize the object when it is created. It sets up the initial state of the object by assigning values to the object’s properties.\n",
        "\n",
        "It is defined using the def keyword and named __init__.\n",
        "\n",
        "It automatically runs when a new object of the class is created.\n",
        "\n",
        "It's commonly used to assign default or user-defined values to instance variables."
      ],
      "metadata": {
        "id": "STGKR89w94DE"
      }
    },
    {
      "cell_type": "markdown",
      "source": [
        "**10. What are class and static methods in Python?**\n",
        "\n",
        "\n",
        "A class method is defined using the @classmethod decorator and takes cls (the class itself) as its first parameter instead of self. It can access or modify class-level variables and is often used for factory methods that create class instances in a specific way.\n",
        "\n",
        "A static method is defined using the @staticmethod decorator and does not take self or cls as its first parameter. It behaves like a regular function but belongs to the class’s namespace. It cannot access or modify instance or class variables, and is used for utility functions that logically relate to the class.\n",
        "\n"
      ],
      "metadata": {
        "id": "33ZVjDXz-cNh"
      }
    },
    {
      "cell_type": "markdown",
      "source": [
        "**11. What is method overloading in Python?**\n",
        "\n",
        "Method overloading in general means defining multiple methods in the same class with the same name but different parameters (number or type). However, in Python, method overloading is not directly supported like in some other languages (e.g., Java or C++), because Python functions can take default arguments and variable-length arguments, making traditional overloading unnecessary."
      ],
      "metadata": {
        "id": "I2zryVFl_cQX"
      }
    },
    {
      "cell_type": "code",
      "source": [
        "class Greet:\n",
        "    def hello(self, name=None):\n",
        "        if name:\n",
        "            print(f\"Hello, {name}!\")\n",
        "        else:\n",
        "            print(\"Hello!\")\n",
        "\n",
        "g = Greet()\n",
        "g.hello()           # Output: Hello!\n",
        "g.hello(\"Aditi\")    # Output: Hello, Aditi!\n",
        "\n"
      ],
      "metadata": {
        "colab": {
          "base_uri": "https://localhost:8080/"
        },
        "id": "WYKqzHjV_uiu",
        "outputId": "7139b81a-5fcf-4f0e-91cc-14975876f1e2"
      },
      "execution_count": 2,
      "outputs": [
        {
          "output_type": "stream",
          "name": "stdout",
          "text": [
            "Hello!\n",
            "Hello, Aditi!\n"
          ]
        }
      ]
    },
    {
      "cell_type": "markdown",
      "source": [
        "\n",
        "**12. What is method overriding in OOP?**  \n",
        "\n",
        "\n",
        "Method overriding in Object-Oriented Programming (OOP) occurs when a subclass provides a specific implementation of a method that is already defined in its parent (super) class. The method in the child class must have the same name, number of parameters, and signature as the method in the parent class. This allows the child class to customize or replace the behavior of the inherited method.\n"
      ],
      "metadata": {
        "id": "-ntb1W6I_vA3"
      }
    },
    {
      "cell_type": "code",
      "source": [
        "class Animal:\n",
        "    def speak(self):\n",
        "        print(\"Animal speaks\")\n",
        "\n",
        "class Dog(Animal):\n",
        "    def speak(self):\n",
        "        print(\"Dog barks\")\n",
        "\n",
        "# Creating objects\n",
        "a = Animal()\n",
        "d = Dog()\n",
        "\n",
        "a.speak()  # Output: Animal speaks\n",
        "d.speak()  # Output: Dog barks\n"
      ],
      "metadata": {
        "colab": {
          "base_uri": "https://localhost:8080/"
        },
        "id": "eelR5SVEAktx",
        "outputId": "df76e82e-5598-4ef5-fffd-f21f1879c844"
      },
      "execution_count": 3,
      "outputs": [
        {
          "output_type": "stream",
          "name": "stdout",
          "text": [
            "Animal speaks\n",
            "Dog barks\n"
          ]
        }
      ]
    },
    {
      "cell_type": "markdown",
      "source": [
        "**13. What is a property decorator in Python?**\n",
        "\n",
        "The @property decorator in Python is used to define a method as a property, allowing you to access it like an attribute without explicitly calling it as a method. It is a way to encapsulate instance variables and provide controlled access to them, often used for getter, setter, and deleter functionality."
      ],
      "metadata": {
        "id": "W67vgOup-d3h"
      }
    },
    {
      "cell_type": "markdown",
      "source": [
        "\n",
        "**14. Why is polymorphism important in OOP?**\n",
        "\n",
        "Polymorphism is important in Object-Oriented Programming (OOP) because it allows objects of different classes to be treated through a common interface, enabling flexibility, code reusability, and extensibility. With polymorphism, the same method name can perform different behaviors depending on the object calling it, making programs easier to extend and maintain.\n",
        "\n",
        " Why it matters:\n",
        "\n",
        "Simplifies code: You can write functions or methods that work on objects of different types without knowing their exact class.\n",
        "\n",
        "Supports scalability: New classes can be added with minimal changes to existing code.\n",
        "\n",
        "Promotes cleaner design: Encourages using interfaces or base classes to define common behavior."
      ],
      "metadata": {
        "id": "nOYa1VOtBEmL"
      }
    },
    {
      "cell_type": "code",
      "source": [
        "class Animal:\n",
        "    def speak(self):\n",
        "        return \"Some sound\"\n",
        "\n",
        "class Dog(Animal):\n",
        "    def speak(self):\n",
        "        return \"Bark\"\n",
        "\n",
        "class Cat(Animal):\n",
        "    def speak(self):\n",
        "        return \"Meow\"\n",
        "\n",
        "# Creating a list of animals\n",
        "animals = [Dog(), Cat()]\n",
        "\n",
        "# Looping through each animal and printing its sound\n",
        "for animal in animals:\n",
        "    print(animal.speak())\n"
      ],
      "metadata": {
        "colab": {
          "base_uri": "https://localhost:8080/"
        },
        "id": "BwJPo5tnDpaG",
        "outputId": "6a0ff4bd-d7d1-4e89-901d-a48854b8987b"
      },
      "execution_count": 4,
      "outputs": [
        {
          "output_type": "stream",
          "name": "stdout",
          "text": [
            "Bark\n",
            "Meow\n"
          ]
        }
      ]
    },
    {
      "cell_type": "markdown",
      "source": [
        "**15.  What is an abstract class in Python?**\n",
        "\n",
        "An abstract class in Python is a class that cannot be instantiated directly and is meant to be inherited by other classes. It is used to define a common interface or blueprint for its subclasses. Abstract classes can include abstract methods (methods with no implementation) that must be implemented in any subclass, ensuring that certain methods are always defined in child classes.\n",
        "\n",
        "Python provides the abc (Abstract Base Classes) module to create abstract classes using the ABC class and the @abstractmethod decorator."
      ],
      "metadata": {
        "id": "laj78DW0CZ2_"
      }
    },
    {
      "cell_type": "markdown",
      "source": [
        "**16. What are the advantages of OOP?**\n",
        "\n",
        "\n",
        "Object-Oriented Programming (OOP) offers several advantages that make software development more organized, maintainable, and scalable. Here are the key benefits:\n",
        "\n",
        "✅ 1. Modularity\n",
        "Code is organized into classes and objects, which makes it easier to manage and understand. Each class handles its own behavior and data, leading to a modular structure.\n",
        "\n",
        "✅ 2. Reusability\n",
        "Through inheritance, you can reuse existing code in new classes, reducing redundancy and development time.\n",
        "\n",
        "✅ 3. Encapsulation\n",
        "OOP allows data to be hidden inside objects and accessed only through methods. This protects the internal state and prevents unintended interference, improving security and data integrity.\n",
        "\n",
        "✅ 4. Abstraction\n",
        "You can hide complex details and expose only the necessary parts of an object. This makes the system easier to use and reduces complexity for the user.\n",
        "\n",
        "✅ 5. Polymorphism\n",
        "With polymorphism, you can use the same interface for different underlying data types or classes. This leads to flexible and extensible code that can work with objects of different classes through a common interface.\n",
        "\n",
        "✅ 6. Scalability and Maintainability\n",
        "OOP makes it easier to update and expand a system. Since classes are self-contained, changes in one class usually don’t affect others, making maintenance safer and more efficient.\n",
        "\n",
        "✅ 7. Improved Collaboration\n",
        "In team environments, OOP helps developers work independently on different classes or modules without interfering with each other, promoting parallel development."
      ],
      "metadata": {
        "id": "MkYaHVglEG3S"
      }
    },
    {
      "cell_type": "markdown",
      "source": [
        "**17. What is the difference between a class variable and an instance variable?**\n",
        "\n",
        "\n",
        "The difference between a class variable and an instance variable lies in how they are shared and accessed:\n",
        "\n",
        "🔹 Instance Variable:\n",
        "Belongs to a specific object (instance) of the class.\n",
        "\n",
        "Defined inside the constructor using self, like self.name.\n",
        "\n",
        "Each object has its own separate copy of instance variables.\n",
        "\n",
        "Used to store data unique to each object.\n",
        "\n",
        "🔹 Class Variable:\n",
        "Belongs to the class itself, not to any one object.\n",
        "\n",
        "Shared by all instances of the class.\n",
        "\n",
        "Defined outside of any methods, directly in the class body.\n",
        "\n",
        "Used for common properties shared by all objects."
      ],
      "metadata": {
        "id": "AL0OnsLdFIMm"
      }
    },
    {
      "cell_type": "markdown",
      "source": [
        "**18. What is multiple inheritance in Python?**\n",
        "Multiple inheritance in Python is a feature that allows a class to inherit from more than one parent class. This means the child class can access the attributes and methods of all its parent classes, enabling more flexible and reusable code.\n",
        "\n"
      ],
      "metadata": {
        "id": "MiCX6HBqFbA8"
      }
    },
    {
      "cell_type": "markdown",
      "source": [
        "**19. Explain the purpose of \"__str__\" and ‘__repr__’ methods in Python?**\n",
        "\n",
        "\n",
        "In Python, the __str__ method is used to define a user-friendly string representation of an object. It is called when you use print() or str() on an object. The purpose of __str__ is to return a string that is readable and meaningful for end users. For example, if you have a Book class and define __str__ to return \"Book Title: Python Basics\", then printing the object will display this clean message. This is especially useful when you want to display information in a presentable format without showing internal details.\n",
        "\n",
        "On the other hand, the __repr__ method is intended for developers and debugging. It returns an unambiguous string that ideally looks like valid Python code that could recreate the object. When you type the object directly into the Python shell or call repr(obj), this method is used. If __str__ is not defined in a class, Python automatically falls back to __repr__. Together, these methods allow you to control how your objects are represented both during development and in user-facing output, improving clarity, readability, and debuggability of your code."
      ],
      "metadata": {
        "id": "jIRg3-w4GGSF"
      }
    },
    {
      "cell_type": "markdown",
      "source": [
        "**20. What is the significance of the ‘super()’ function in Python?**\n",
        "\n",
        "\n",
        "he super() function in Python is used to call methods from a parent (super) class in a subclass. It is especially significant in inheritance, where it allows you to extend or customize the behavior of the parent class without rewriting its code. Most commonly, super() is used inside the constructor (__init__) of a child class to call the constructor of the parent class, ensuring that the parent class is properly initialized.\n",
        "\n",
        "One key advantage of super() is that it supports multiple inheritance and follows the Method Resolution Order (MRO), which defines the order in which base classes are searched. This makes super() more robust and maintainable than directly calling the parent class name.\n"
      ],
      "metadata": {
        "id": "05OARoJxG3L-"
      }
    },
    {
      "cell_type": "markdown",
      "source": [
        "**21. What is the significance of the __del__ method in Python?**\n",
        "\n",
        "\n",
        "The __del__ method in Python is a special (dunder) method known as a destructor. It is called automatically when an object is about to be destroyed — that is, when there are no more references to the object and it's ready for garbage collection. The primary use of __del__ is to perform cleanup tasks, such as closing files, releasing resources, or disconnecting from databases before the object is removed from memory."
      ],
      "metadata": {
        "id": "Mo-usCtaHWVs"
      }
    },
    {
      "cell_type": "markdown",
      "source": [
        "**22. What is the difference between @staticmethod and @classmethod in Python?**\n",
        "\n",
        "\n",
        "\n",
        " @staticmethod:\n",
        "Does not take self or cls as its first parameter.\n",
        "\n",
        "It behaves like a regular function but belongs to the class’s namespace.\n",
        "\n",
        "Cannot access or modify class or instance variables.\n",
        "\n",
        "Used for utility functions related to the class but not dependent on instance or class state.\n",
        "\n",
        "\n",
        " @classmethod:\n",
        "Takes cls (the class itself) as the first parameter.\n",
        "\n",
        "Can access and modify class variables.\n",
        "\n",
        "Often used to create alternative constructors or perform class-level operations."
      ],
      "metadata": {
        "id": "FXZenylXFXm5"
      }
    },
    {
      "cell_type": "markdown",
      "source": [
        "**23. How does polymorphism work in Python with inheritance?**\n",
        "\n",
        "In Python, polymorphism with inheritance allows you to call the same method name on different objects from different classes, and each object can have its own implementation of that method. This is achieved through method overriding, where a subclass provides a specific version of a method that already exists in its parent class.\n",
        "\n",
        "When a method is called on an object, Python determines at runtime which class's version of the method to invoke — based on the object's actual type, not the reference type. This is called runtime polymorphism."
      ],
      "metadata": {
        "id": "aE4Ma1eRIGey"
      }
    },
    {
      "cell_type": "markdown",
      "source": [
        "**24.  What is method chaining in Python OOP?**\n",
        "\n",
        "Method chaining in Python OOP is a programming technique where multiple methods are called on the same object in a single line, one after another, using dot (.) notation. Each method in the chain must return the object itself (self), so that the next method can be called on it."
      ],
      "metadata": {
        "id": "_HLbXoMfIcb7"
      }
    },
    {
      "cell_type": "markdown",
      "source": [
        "**25.  What is the purpose of the __call__ method in Python?**\n",
        "\n",
        "The __call__ method in Python allows an instance of a class to be called like a function. When you define the __call__ method inside a class, you can use the object with parentheses () — just like calling a regular function — and it will execute the code in __call__.\n",
        "\n",
        "Purpose:\n",
        "\n",
        "Makes an object callable, i.e., acts like a function.\n",
        "\n",
        "Useful for building function-like objects, custom decorators, caches, logging wrappers, or even stateful functions."
      ],
      "metadata": {
        "id": "PoLmzFDNIrA7"
      }
    },
    {
      "cell_type": "markdown",
      "source": [
        "# **Practical Questions**"
      ],
      "metadata": {
        "id": "cMQsvWydI7Av"
      }
    },
    {
      "cell_type": "code",
      "source": [
        "# 1. Create a parent class Animal with a method speak() that prints a generic message. Create a child class Dog\n",
        "# that overrides the speak() method to print \"Bark!\".\n",
        "\n",
        "\n",
        "class Animal:\n",
        "    def speak(self):\n",
        "        print(\"The animal makes a sound.\")\n",
        "\n",
        "class Dog(Animal):\n",
        "    def speak(self):\n",
        "        print(\"Bark!\")\n",
        "\n",
        "# Creating objects\n",
        "a = Animal()\n",
        "d = Dog()\n",
        "\n",
        "# Calling speak method\n",
        "a.speak()  # Output: The animal makes a sound.\n",
        "d.speak()  # Output: Bark!\n"
      ],
      "metadata": {
        "colab": {
          "base_uri": "https://localhost:8080/"
        },
        "id": "sRT0B0ptJJwI",
        "outputId": "e8d5739f-9d15-4c7e-8d0e-9b5d83325482"
      },
      "execution_count": 5,
      "outputs": [
        {
          "output_type": "stream",
          "name": "stdout",
          "text": [
            "The animal makes a sound.\n",
            "Bark!\n"
          ]
        }
      ]
    },
    {
      "cell_type": "code",
      "source": [
        "# 2. Write a program to create an abstract class Shape with a method area(). Derive classes Circle and Rectangle\n",
        "# from it and implement the area() method in both.\n",
        "\n",
        "\n",
        "from abc import ABC, abstractmethod\n",
        "import math\n",
        "\n",
        "# Abstract class\n",
        "class Shape(ABC):\n",
        "    @abstractmethod\n",
        "    def area(self):\n",
        "        pass\n",
        "\n",
        "# Derived class: Circle\n",
        "class Circle(Shape):\n",
        "    def __init__(self, radius):\n",
        "        self.radius = radius\n",
        "\n",
        "    def area(self):\n",
        "        return math.pi * self.radius ** 2\n",
        "\n",
        "# Derived class: Rectangle\n",
        "class Rectangle(Shape):\n",
        "    def __init__(self, length, width):\n",
        "        self.length = length\n",
        "        self.width = width\n",
        "\n",
        "    def area(self):\n",
        "        return self.length * self.width\n",
        "\n",
        "# Creating objects and calling area\n",
        "c = Circle(5)\n",
        "r = Rectangle(4, 6)\n",
        "\n",
        "print(\"Area of Circle:\", c.area())       # Output: Area of Circle: 78.53981633974483\n",
        "print(\"Area of Rectangle:\", r.area())   # Output: Area of Rectangle: 24\n"
      ],
      "metadata": {
        "colab": {
          "base_uri": "https://localhost:8080/"
        },
        "id": "k46SWwi0Jjj0",
        "outputId": "071a5b90-057a-4d95-cbc4-d3ecd104c2b1"
      },
      "execution_count": 6,
      "outputs": [
        {
          "output_type": "stream",
          "name": "stdout",
          "text": [
            "Area of Circle: 78.53981633974483\n",
            "Area of Rectangle: 24\n"
          ]
        }
      ]
    },
    {
      "cell_type": "code",
      "source": [
        "# 3. Implement a multi-level inheritance scenario where a class Vehicle has an attribute type. Derive a class Car\n",
        "# and further derive a class ElectricCar that adds a battery attribute.\n",
        "\n",
        "# Base class\n",
        "class Vehicle:\n",
        "    def __init__(self):\n",
        "        self.type1 = \"Four Wheeler\"\n",
        "\n",
        "# Derived class\n",
        "class Car(Vehicle):\n",
        "    def __init__(self):\n",
        "        Vehicle.__init__(self)  # Call parent class constructor\n",
        "        self.brand = \"Honda\"\n",
        "\n",
        "# Further derived class\n",
        "class ElectricCar(Car):\n",
        "    def __init__(self):\n",
        "        Car.__init__(self)  # Call parent class constructor\n",
        "        self.battery = \"80 kWh\"\n",
        "\n",
        "# Create object of ElectricCar\n",
        "e_car = ElectricCar()\n",
        "\n",
        "# Print details\n",
        "print(\"Vehicle Type:\", e_car.type1)\n",
        "print(\"Car Brand:\", e_car.brand)\n",
        "print(\"Battery Capacity:\", e_car.battery)\n",
        "\n",
        "\n",
        "\n",
        "\n"
      ],
      "metadata": {
        "colab": {
          "base_uri": "https://localhost:8080/"
        },
        "id": "uhuuXO91J1ui",
        "outputId": "a4032a6a-8a1f-4502-c05b-987a36cf5864"
      },
      "execution_count": 7,
      "outputs": [
        {
          "output_type": "stream",
          "name": "stdout",
          "text": [
            "Vehicle Type: Four Wheeler\n",
            "Car Brand: Honda\n",
            "Battery Capacity: 80 kWh\n"
          ]
        }
      ]
    },
    {
      "cell_type": "code",
      "source": [
        "# 4. Demonstrate polymorphism by creating a base class Bird with a method fly(). Create two derived classes\n",
        "# Sparrow and Penguin that override the fly() method.\n",
        "\n",
        "\n",
        "# Base class\n",
        "class Bird:\n",
        "    def fly(self):\n",
        "        print(\"Some birds can fly.\")\n",
        "\n",
        "# Derived class\n",
        "class Sparrow(Bird):\n",
        "    def fly(self):\n",
        "        print(\"Sparrow flies high in the sky.\")\n",
        "\n",
        "# Derived class\n",
        "class Penguin(Bird):\n",
        "    def fly(self):\n",
        "        print(\"Penguin cannot fly, but it swims well.\")\n",
        "\n",
        "# Create a list of bird objects\n",
        "birds = [Sparrow(), Penguin()]\n",
        "\n",
        "# Use for loop to demonstrate polymorphism\n",
        "for bird in birds:\n",
        "    bird.fly()\n"
      ],
      "metadata": {
        "colab": {
          "base_uri": "https://localhost:8080/"
        },
        "id": "VBl5dcJAK4Y1",
        "outputId": "4f7ac7c9-cba3-472f-f799-78434de07f8b"
      },
      "execution_count": 8,
      "outputs": [
        {
          "output_type": "stream",
          "name": "stdout",
          "text": [
            "Sparrow flies high in the sky.\n",
            "Penguin cannot fly, but it swims well.\n"
          ]
        }
      ]
    },
    {
      "cell_type": "code",
      "source": [
        "# 5. Write a program to demonstrate encapsulation by creating a class BankAccount with private attributes\n",
        "# balance and methods to deposit, withdraw, and check balance.\n",
        "\n",
        "class BankAccount:\n",
        "    def __init__(self):\n",
        "        self.__balance = 0  # private attribute\n",
        "\n",
        "    def deposit(self, amount):\n",
        "        if amount > 0:\n",
        "            self.__balance += amount\n",
        "            print(f\"Deposited ₹{amount}\")\n",
        "        else:\n",
        "            print(\"Invalid deposit amount.\")\n",
        "\n",
        "    def withdraw(self, amount):\n",
        "        if 0 < amount <= self.__balance:\n",
        "            self.__balance -= amount\n",
        "            print(f\"Withdrawn ₹{amount}\")\n",
        "        else:\n",
        "            print(\"Insufficient balance or invalid amount.\")\n",
        "\n",
        "    def check_balance(self):\n",
        "        print(f\"Current Balance: ₹{self.__balance}\")\n",
        "\n",
        "# Creating object\n",
        "acc = BankAccount()\n",
        "\n",
        "# Performing operations\n",
        "acc.deposit(1000)\n",
        "acc.withdraw(300)\n",
        "acc.check_balance()\n"
      ],
      "metadata": {
        "colab": {
          "base_uri": "https://localhost:8080/"
        },
        "id": "waO04oFzLEWQ",
        "outputId": "51163377-f96a-441d-f1bb-aadac9e6ff93"
      },
      "execution_count": 9,
      "outputs": [
        {
          "output_type": "stream",
          "name": "stdout",
          "text": [
            "Deposited ₹1000\n",
            "Withdrawn ₹300\n",
            "Current Balance: ₹700\n"
          ]
        }
      ]
    },
    {
      "cell_type": "code",
      "source": [
        "# 6. Demonstrate runtime polymorphism using a method play() in a base class Instrument. Derive classes Guitar\n",
        "# and Piano that implement their own version of play().\n",
        "\n",
        "# Base class\n",
        "class Instrument:\n",
        "    def play(self):\n",
        "        print(\"Playing an instrument.\")\n",
        "\n",
        "# Derived class\n",
        "class Guitar(Instrument):\n",
        "    def play(self):\n",
        "        print(\"Strumming the guitar.\")\n",
        "\n",
        "# Derived class\n",
        "class Piano(Instrument):\n",
        "    def play(self):\n",
        "        print(\"Playing the piano keys.\")\n",
        "\n",
        "# List of instruments\n",
        "instruments = [Guitar(), Piano()]\n",
        "\n",
        "# Demonstrate runtime polymorphism using a for loop\n",
        "for instrument in instruments:\n",
        "    instrument.play()\n"
      ],
      "metadata": {
        "colab": {
          "base_uri": "https://localhost:8080/"
        },
        "id": "7RQ8EkeRLW6z",
        "outputId": "028df50c-4464-4e1a-8244-52e57af25036"
      },
      "execution_count": 10,
      "outputs": [
        {
          "output_type": "stream",
          "name": "stdout",
          "text": [
            "Strumming the guitar.\n",
            "Playing the piano keys.\n"
          ]
        }
      ]
    },
    {
      "cell_type": "code",
      "source": [
        "# 7. Create a class MathOperations with a class method add_numbers() to add two numbers and a static\n",
        "# method subtract_numbers() to subtract two numbers.\n",
        "\n",
        "class MathOperations:\n",
        "    @classmethod\n",
        "    def add_numbers(cls, a, b):\n",
        "        return a + b\n",
        "\n",
        "    @staticmethod\n",
        "    def subtract_numbers(a, b):\n",
        "        return a - b\n",
        "\n",
        "# Using the class method\n",
        "sum_result = MathOperations.add_numbers(10, 5)\n",
        "print(\"Sum:\", sum_result)\n",
        "\n",
        "# Using the static method\n",
        "difference = MathOperations.subtract_numbers(10, 5)\n",
        "print(\"Difference:\", difference)\n"
      ],
      "metadata": {
        "colab": {
          "base_uri": "https://localhost:8080/"
        },
        "id": "82xRGUp6Llnz",
        "outputId": "5fb16c51-31aa-4fb5-f7c8-67de4b96c88a"
      },
      "execution_count": 11,
      "outputs": [
        {
          "output_type": "stream",
          "name": "stdout",
          "text": [
            "Sum: 15\n",
            "Difference: 5\n"
          ]
        }
      ]
    },
    {
      "cell_type": "code",
      "source": [
        "# 8.  Implement a class Person with a class method to count the total number of persons created.\n",
        "\n",
        "\n",
        "class Person:\n",
        "    count = 0  # Class variable to keep track of person count\n",
        "\n",
        "    def __init__(self, name):\n",
        "        self.name = name\n",
        "        Person.count += 1\n",
        "\n",
        "    @classmethod\n",
        "    def total_persons(cls):\n",
        "        print(\"Total persons created:\", cls.count)\n",
        "\n",
        "# Creating Person objects\n",
        "p1 = Person(\"Alice\")\n",
        "p2 = Person(\"Bob\")\n",
        "p3 = Person(\"Charlie\")\n",
        "\n",
        "# Calling the class method to show total count\n",
        "Person.total_persons()\n"
      ],
      "metadata": {
        "colab": {
          "base_uri": "https://localhost:8080/"
        },
        "id": "n73FFmV8L9SK",
        "outputId": "505f7f5a-35dd-4cba-db44-7c6f3f2334d9"
      },
      "execution_count": 12,
      "outputs": [
        {
          "output_type": "stream",
          "name": "stdout",
          "text": [
            "Total persons created: 3\n"
          ]
        }
      ]
    },
    {
      "cell_type": "code",
      "source": [
        "# 9. Write a class Fraction with attributes numerator and denominator. Override the str method to display the\n",
        "# fraction as \"numerator/denominator\".\n",
        "\n",
        "\n",
        "class Fraction:\n",
        "    def __init__(self, numerator, denominator):\n",
        "        self.numerator = numerator\n",
        "        self.denominator = denominator\n",
        "\n",
        "    def __str__(self):\n",
        "        return f\"{self.numerator}/{self.denominator}\"\n",
        "\n",
        "# Creating Fraction objects\n",
        "f1 = Fraction(3, 4)\n",
        "f2 = Fraction(7, 2)\n",
        "\n",
        "# Displaying fractions\n",
        "print(f1)  # Output: 3/4\n",
        "print(f2)  # Output: 7/2\n"
      ],
      "metadata": {
        "colab": {
          "base_uri": "https://localhost:8080/"
        },
        "id": "bwGRkgb6MMIZ",
        "outputId": "22a20991-eec4-4624-e756-19217a5f80eb"
      },
      "execution_count": 13,
      "outputs": [
        {
          "output_type": "stream",
          "name": "stdout",
          "text": [
            "3/4\n",
            "7/2\n"
          ]
        }
      ]
    },
    {
      "cell_type": "code",
      "source": [
        "# 10.  Demonstrate operator overloading by creating a class Vector and overriding the add method to add two\n",
        "# vectors.\n",
        "\n",
        "\n",
        "class Vector:\n",
        "    def __init__(self, x, y):\n",
        "        self.x = x\n",
        "        self.y = y\n",
        "\n",
        "    def __add__(self, other):\n",
        "        return Vector(self.x + other.x, self.y + other.y)\n",
        "\n",
        "    def __str__(self):\n",
        "        return f\"Vector({self.x}, {self.y})\"\n",
        "\n",
        "# Creating two vector objects\n",
        "v1 = Vector(2, 3)\n",
        "v2 = Vector(4, 1)\n",
        "\n",
        "# Adding the vectors using overloaded + operator\n",
        "v3 = v1 + v2\n",
        "\n",
        "# Displaying the result\n",
        "print(v3)  # Output: Vector(6, 4)\n"
      ],
      "metadata": {
        "colab": {
          "base_uri": "https://localhost:8080/"
        },
        "id": "deqM_tmrMz2L",
        "outputId": "3e86fc49-56fc-46e6-c2c4-8419c6d215cc"
      },
      "execution_count": 14,
      "outputs": [
        {
          "output_type": "stream",
          "name": "stdout",
          "text": [
            "Vector(6, 4)\n"
          ]
        }
      ]
    },
    {
      "cell_type": "code",
      "source": [
        "# 11. Create a class Person with attributes name and age. Add a method greet() that prints \"Hello, my name is\n",
        "# {name} and I am {age} years old.\n",
        "\n",
        "class Person:\n",
        "    def __init__(self, name, age):\n",
        "        self.name = name\n",
        "        self.age = age\n",
        "\n",
        "    def greet(self):\n",
        "        print(f\"Hello, my name is {self.name} and I am {self.age} years old.\")\n",
        "\n",
        "# Creating a Person object\n",
        "p1 = Person(\"Aditi\", 25)\n",
        "\n",
        "# Calling the greet method\n",
        "p1.greet()\n"
      ],
      "metadata": {
        "colab": {
          "base_uri": "https://localhost:8080/"
        },
        "id": "iCCt8rHJNGeC",
        "outputId": "7bcc44c2-2698-4c8d-ae5f-98572a9571d9"
      },
      "execution_count": 15,
      "outputs": [
        {
          "output_type": "stream",
          "name": "stdout",
          "text": [
            "Hello, my name is Aditi and I am 25 years old.\n"
          ]
        }
      ]
    },
    {
      "cell_type": "code",
      "source": [
        "# 12. Implement a class Student with attributes name and grades. Create a method average_grade() to compute\n",
        "# the average of the grades.\n",
        "\n",
        "\n",
        "\n",
        "class Student:\n",
        "    def __init__(self, name, grades):\n",
        "        self.name = name\n",
        "        self.grades = grades  # grades should be a list of numbers\n",
        "\n",
        "    def average_grade(self):\n",
        "        if self.grades:\n",
        "            average = sum(self.grades) / len(self.grades)\n",
        "            return average\n",
        "        else:\n",
        "            return 0\n",
        "\n",
        "# Creating a Student object\n",
        "s1 = Student(\"Aditi\", [85, 90, 78, 92])\n",
        "\n",
        "# Calling the average_grade method\n",
        "print(f\"{s1.name}'s average grade is: {s1.average_grade()}\")\n",
        "\n"
      ],
      "metadata": {
        "colab": {
          "base_uri": "https://localhost:8080/"
        },
        "id": "2xYUJG3HNUI1",
        "outputId": "eead54ca-7b88-458d-878b-345bf38f7721"
      },
      "execution_count": 16,
      "outputs": [
        {
          "output_type": "stream",
          "name": "stdout",
          "text": [
            "Aditi's average grade is: 86.25\n"
          ]
        }
      ]
    },
    {
      "cell_type": "code",
      "source": [
        "\n",
        "\n",
        "# 13.  Create a class Rectangle with methods set_dimensions() to set the dimensions and area() to calculate the\n",
        "# area.\n",
        "\n",
        "class Rectangle:\n",
        "    def __init__(self):\n",
        "        self.length = 0\n",
        "        self.width = 0\n",
        "\n",
        "    def set_dimensions(self, length, width):\n",
        "        self.length = length\n",
        "        self.width = width\n",
        "\n",
        "    def area(self):\n",
        "        return self.length * self.width\n",
        "\n",
        "# Creating a Rectangle object\n",
        "rect = Rectangle()\n",
        "\n",
        "# Setting dimensions\n",
        "rect.set_dimensions(10, 5)\n",
        "\n",
        "# Calculating and displaying the area\n",
        "print(\"Area of rectangle:\", rect.area())\n"
      ],
      "metadata": {
        "colab": {
          "base_uri": "https://localhost:8080/"
        },
        "id": "ir_4xw65Nkda",
        "outputId": "3dd9c907-54c8-461a-958e-5a6d8d2fad7d"
      },
      "execution_count": 17,
      "outputs": [
        {
          "output_type": "stream",
          "name": "stdout",
          "text": [
            "Area of rectangle: 50\n"
          ]
        }
      ]
    },
    {
      "cell_type": "code",
      "source": [
        "# 14.  Create a class Employee with a method calculate_salary() that computes the salary based on hours worked\n",
        "# and hourly rate. Create a derived class Manager that adds a bonus to the salary.\n",
        "class Employee:\n",
        "    def __init__(self, name, hours_worked, hourly_rate):\n",
        "        self.name = name\n",
        "        self.hours_worked = hours_worked\n",
        "        self.hourly_rate = hourly_rate\n",
        "\n",
        "    def calculate_salary(self):\n",
        "        return self.hours_worked * self.hourly_rate\n",
        "\n",
        "class Manager(Employee):\n",
        "    def __init__(self, name, hours_worked, hourly_rate, bonus):\n",
        "        self.name = name\n",
        "        self.hours_worked = hours_worked\n",
        "        self.hourly_rate = hourly_rate\n",
        "        self.bonus = bonus\n",
        "\n",
        "    def calculate_salary(self):\n",
        "        base_salary = self.hours_worked * self.hourly_rate\n",
        "        return base_salary + self.bonus\n",
        "\n",
        "# Creating Employee and Manager objects\n",
        "emp = Employee(\"John\", 40, 300)\n",
        "mgr = Manager(\"Alice\", 40, 300, 5000)\n",
        "\n",
        "# Calculating salaries\n",
        "print(f\"{emp.name}'s Salary: ₹{emp.calculate_salary()}\")\n",
        "print(f\"{mgr.name}'s Salary (with bonus): ₹{mgr.calculate_salary()}\")\n"
      ],
      "metadata": {
        "colab": {
          "base_uri": "https://localhost:8080/"
        },
        "id": "domQnAd2N6wC",
        "outputId": "7078fee9-50a7-4738-bc62-b80fe9813aa1"
      },
      "execution_count": 18,
      "outputs": [
        {
          "output_type": "stream",
          "name": "stdout",
          "text": [
            "John's Salary: ₹12000\n",
            "Alice's Salary (with bonus): ₹17000\n"
          ]
        }
      ]
    },
    {
      "cell_type": "code",
      "source": [
        "# 15. Create a class Product with attributes name, price, and quantity. Implement a method total_price() that\n",
        "# calculates the total price of the product.\n",
        "\n",
        "\n",
        "class Product:\n",
        "    def __init__(self, name, price, quantity):\n",
        "        self.name = name\n",
        "        self.price = price\n",
        "        self.quantity = quantity\n",
        "\n",
        "    def total_price(self):\n",
        "        return self.price * self.quantity\n",
        "\n",
        "# Creating a Product object\n",
        "p1 = Product(\"Laptop\", 50000, 2)\n",
        "\n",
        "# Calculating and displaying the total price\n",
        "print(f\"Total price for {p1.name}s: ₹{p1.total_price()}\")\n"
      ],
      "metadata": {
        "colab": {
          "base_uri": "https://localhost:8080/"
        },
        "id": "TnHJkm5TOVEv",
        "outputId": "bb907332-fad3-48d6-930e-25dce4cf8d6a"
      },
      "execution_count": 19,
      "outputs": [
        {
          "output_type": "stream",
          "name": "stdout",
          "text": [
            "Total price for Laptops: ₹100000\n"
          ]
        }
      ]
    },
    {
      "cell_type": "code",
      "source": [
        "# 16. Create a class Animal with an abstract method sound(). Create two derived classes Cow and Sheep that\n",
        "# implement the sound() method.\n",
        "\n",
        "from abc import ABC, abstractmethod\n",
        "\n",
        "class Animal(ABC):\n",
        "    @abstractmethod\n",
        "    def sound(self):\n",
        "        pass\n",
        "\n",
        "class Cow(Animal):\n",
        "    def sound(self):\n",
        "        return \"Moo\"\n",
        "\n",
        "class Sheep(Animal):\n",
        "    def sound(self):\n",
        "        return \"Baa\"\n",
        "\n",
        "# Creating objects of derived classes\n",
        "cow = Cow()\n",
        "sheep = Sheep()\n",
        "\n",
        "# Printing the sounds\n",
        "print(\"Cow sound:\", cow.sound())\n",
        "print(\"Sheep sound:\", sheep.sound())\n",
        "\n",
        "\n"
      ],
      "metadata": {
        "colab": {
          "base_uri": "https://localhost:8080/"
        },
        "id": "jm5knmo8Ojwh",
        "outputId": "59797904-5e0b-45bb-bad9-0df2b5f36ab6"
      },
      "execution_count": 20,
      "outputs": [
        {
          "output_type": "stream",
          "name": "stdout",
          "text": [
            "Cow sound: Moo\n",
            "Sheep sound: Baa\n"
          ]
        }
      ]
    },
    {
      "cell_type": "code",
      "source": [
        "# 17. Create a class Book with attributes title, author, and year_published. Add a method get_book_info() that\n",
        "# returns a formatted string with the book's details.\n",
        "\n",
        "\n",
        "class Book:\n",
        "    def __init__(self, title, author, year_published):\n",
        "        self.title = title\n",
        "        self.author = author\n",
        "        self.year_published = year_published\n",
        "\n",
        "    def get_book_info(self):\n",
        "        return f\"'{self.title}' by {self.author}, published in {self.year_published}.\"\n",
        "\n",
        "# Creating a Book object\n",
        "book1 = Book(\"To Kill a Mockingbird\", \"Harper Lee\", 1960)\n",
        "\n",
        "# Displaying book information\n",
        "print(book1.get_book_info())\n"
      ],
      "metadata": {
        "colab": {
          "base_uri": "https://localhost:8080/"
        },
        "id": "BjKzMJB6Ou9D",
        "outputId": "5deb3228-d5a8-4368-b6cd-1727c470ca0c"
      },
      "execution_count": 21,
      "outputs": [
        {
          "output_type": "stream",
          "name": "stdout",
          "text": [
            "'To Kill a Mockingbird' by Harper Lee, published in 1960.\n"
          ]
        }
      ]
    },
    {
      "cell_type": "code",
      "source": [
        "# 18. Create a class House with attributes address and price. Create a derived class Mansion that adds an\n",
        "# attribute number_of_rooms.\n",
        "\n",
        "class House:\n",
        "    def __init__(self, address, price):\n",
        "        self.address = address\n",
        "        self.price = price\n",
        "\n",
        "class Mansion(House):\n",
        "    def __init__(self, address, price, number_of_rooms):\n",
        "        self.address = address\n",
        "        self.price = price\n",
        "        self.number_of_rooms = number_of_rooms\n",
        "\n",
        "# Creating an object of Mansion\n",
        "m1 = Mansion(\"123 Royal Street\", 50000000, 10)\n",
        "\n",
        "# Displaying mansion details\n",
        "print(\"Address:\", m1.address)\n",
        "print(\"Price: ₹\", m1.price)\n",
        "print(\"Number of Rooms:\", m1.number_of_rooms)\n"
      ],
      "metadata": {
        "colab": {
          "base_uri": "https://localhost:8080/"
        },
        "id": "JMN2n-hQO8U5",
        "outputId": "d775b7cd-878a-42cd-e481-abd5d975e7c6"
      },
      "execution_count": 22,
      "outputs": [
        {
          "output_type": "stream",
          "name": "stdout",
          "text": [
            "Address: 123 Royal Street\n",
            "Price: ₹ 50000000\n",
            "Number of Rooms: 10\n"
          ]
        }
      ]
    }
  ]
}